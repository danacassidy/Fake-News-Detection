{
 "cells": [
  {
   "cell_type": "markdown",
   "metadata": {},
   "source": [
    "# \"Fake\" vs. \"Real\" news: NLP"
   ]
  },
  {
   "cell_type": "markdown",
   "metadata": {},
   "source": [
    "The topic of \"fake\" versus \"real\" news is one that's become more pressing as social media continues to evolve and information is more rapidly spread. The concept of news itself is not new and is a fundamental aspect of modern-day democracies. Journalists work to hold powerful entities and figures accountable and are supposed to be an ally of the people. Yet, distrust of the media is extremely common due to the nature of present-day society and officials constantly calling the media into question. Harmful conspiracies and propaganda aren't new but now have a platform to thrive and be spread among social sites. Companies and people are able to mask \"pink slime,\" or garbage-level information, as quality journalism. This is a problem, as most people aren't entirely media literate and can't tell the difference -- but a computer can.\n",
    "\n",
    "#### The purpose of this notebook is to use Natural Language Processing to train a model to tell the difference between \"fake\" and \"real\" news."
   ]
  },
  {
   "cell_type": "markdown",
   "metadata": {},
   "source": [
    "## Table of Contents"
   ]
  },
  {
   "cell_type": "markdown",
   "metadata": {},
   "source": [
    "#### 1. Importing libraries and data \n",
    "#### 2. Data cleaning\n",
    "#### 3. Feature Extraction\n",
    "#### 4. Training the model\n",
    "#### 5. Analyzing and exploring some more\n",
    "#### 6. Conclusion + takeaways\n"
   ]
  },
  {
   "cell_type": "markdown",
   "metadata": {},
   "source": [
    "## 1. Importing libraries and  data "
   ]
  },
  {
   "cell_type": "markdown",
   "metadata": {},
   "source": [
    "Let's import all the libraries we'll need to import and analyze the data."
   ]
  },
  {
   "cell_type": "code",
   "execution_count": 22,
   "metadata": {},
   "outputs": [],
   "source": [
    "import os\n",
    "import pandas as pd\n",
    "import numpy as np\n",
    "import matplotlib.pyplot as plt\n",
    "import seaborn as sns\n",
    "%matplotlib inline"
   ]
  },
  {
   "cell_type": "markdown",
   "metadata": {},
   "source": [
    "Now, let's import our csv files of both \"fake\" and \"real\" news datasets. The dataset is from: https://www.kaggle.com/clmentbisaillon/fake-and-real-news-dataset?select=True.csv. Then, we'll take a look at the heads of our csv files."
   ]
  },
  {
   "cell_type": "code",
   "execution_count": 10,
   "metadata": {},
   "outputs": [],
   "source": [
    "fake = pd.read_csv('Fake.csv', index_col=0)\n",
    "real = pd.read_csv('True.csv', index_col=0)"
   ]
  },
  {
   "cell_type": "code",
   "execution_count": 11,
   "metadata": {},
   "outputs": [
    {
     "data": {
      "text/html": [
       "<div>\n",
       "<style scoped>\n",
       "    .dataframe tbody tr th:only-of-type {\n",
       "        vertical-align: middle;\n",
       "    }\n",
       "\n",
       "    .dataframe tbody tr th {\n",
       "        vertical-align: top;\n",
       "    }\n",
       "\n",
       "    .dataframe thead th {\n",
       "        text-align: right;\n",
       "    }\n",
       "</style>\n",
       "<table border=\"1\" class=\"dataframe\">\n",
       "  <thead>\n",
       "    <tr style=\"text-align: right;\">\n",
       "      <th></th>\n",
       "      <th>text</th>\n",
       "      <th>subject</th>\n",
       "      <th>date</th>\n",
       "    </tr>\n",
       "    <tr>\n",
       "      <th>title</th>\n",
       "      <th></th>\n",
       "      <th></th>\n",
       "      <th></th>\n",
       "    </tr>\n",
       "  </thead>\n",
       "  <tbody>\n",
       "    <tr>\n",
       "      <th>Donald Trump Sends Out Embarrassing New Year’s Eve Message; This is Disturbing</th>\n",
       "      <td>Donald Trump just couldn t wish all Americans ...</td>\n",
       "      <td>News</td>\n",
       "      <td>December 31, 2017</td>\n",
       "    </tr>\n",
       "    <tr>\n",
       "      <th>Drunk Bragging Trump Staffer Started Russian Collusion Investigation</th>\n",
       "      <td>House Intelligence Committee Chairman Devin Nu...</td>\n",
       "      <td>News</td>\n",
       "      <td>December 31, 2017</td>\n",
       "    </tr>\n",
       "    <tr>\n",
       "      <th>Sheriff David Clarke Becomes An Internet Joke For Threatening To Poke People ‘In The Eye’</th>\n",
       "      <td>On Friday, it was revealed that former Milwauk...</td>\n",
       "      <td>News</td>\n",
       "      <td>December 30, 2017</td>\n",
       "    </tr>\n",
       "    <tr>\n",
       "      <th>Trump Is So Obsessed He Even Has Obama’s Name Coded Into His Website (IMAGES)</th>\n",
       "      <td>On Christmas day, Donald Trump announced that ...</td>\n",
       "      <td>News</td>\n",
       "      <td>December 29, 2017</td>\n",
       "    </tr>\n",
       "    <tr>\n",
       "      <th>Pope Francis Just Called Out Donald Trump During His Christmas Speech</th>\n",
       "      <td>Pope Francis used his annual Christmas Day mes...</td>\n",
       "      <td>News</td>\n",
       "      <td>December 25, 2017</td>\n",
       "    </tr>\n",
       "  </tbody>\n",
       "</table>\n",
       "</div>"
      ],
      "text/plain": [
       "                                                                                                 text  \\\n",
       "title                                                                                                   \n",
       " Donald Trump Sends Out Embarrassing New Year’s...  Donald Trump just couldn t wish all Americans ...   \n",
       " Drunk Bragging Trump Staffer Started Russian C...  House Intelligence Committee Chairman Devin Nu...   \n",
       " Sheriff David Clarke Becomes An Internet Joke ...  On Friday, it was revealed that former Milwauk...   \n",
       " Trump Is So Obsessed He Even Has Obama’s Name ...  On Christmas day, Donald Trump announced that ...   \n",
       " Pope Francis Just Called Out Donald Trump Duri...  Pope Francis used his annual Christmas Day mes...   \n",
       "\n",
       "                                                   subject               date  \n",
       "title                                                                          \n",
       " Donald Trump Sends Out Embarrassing New Year’s...    News  December 31, 2017  \n",
       " Drunk Bragging Trump Staffer Started Russian C...    News  December 31, 2017  \n",
       " Sheriff David Clarke Becomes An Internet Joke ...    News  December 30, 2017  \n",
       " Trump Is So Obsessed He Even Has Obama’s Name ...    News  December 29, 2017  \n",
       " Pope Francis Just Called Out Donald Trump Duri...    News  December 25, 2017  "
      ]
     },
     "execution_count": 11,
     "metadata": {},
     "output_type": "execute_result"
    }
   ],
   "source": [
    "fake.head()"
   ]
  },
  {
   "cell_type": "code",
   "execution_count": 12,
   "metadata": {},
   "outputs": [
    {
     "data": {
      "text/html": [
       "<div>\n",
       "<style scoped>\n",
       "    .dataframe tbody tr th:only-of-type {\n",
       "        vertical-align: middle;\n",
       "    }\n",
       "\n",
       "    .dataframe tbody tr th {\n",
       "        vertical-align: top;\n",
       "    }\n",
       "\n",
       "    .dataframe thead th {\n",
       "        text-align: right;\n",
       "    }\n",
       "</style>\n",
       "<table border=\"1\" class=\"dataframe\">\n",
       "  <thead>\n",
       "    <tr style=\"text-align: right;\">\n",
       "      <th></th>\n",
       "      <th>text</th>\n",
       "      <th>subject</th>\n",
       "      <th>date</th>\n",
       "    </tr>\n",
       "    <tr>\n",
       "      <th>title</th>\n",
       "      <th></th>\n",
       "      <th></th>\n",
       "      <th></th>\n",
       "    </tr>\n",
       "  </thead>\n",
       "  <tbody>\n",
       "    <tr>\n",
       "      <th>As U.S. budget fight looms, Republicans flip their fiscal script</th>\n",
       "      <td>WASHINGTON (Reuters) - The head of a conservat...</td>\n",
       "      <td>politicsNews</td>\n",
       "      <td>December 31, 2017</td>\n",
       "    </tr>\n",
       "    <tr>\n",
       "      <th>U.S. military to accept transgender recruits on Monday: Pentagon</th>\n",
       "      <td>WASHINGTON (Reuters) - Transgender people will...</td>\n",
       "      <td>politicsNews</td>\n",
       "      <td>December 29, 2017</td>\n",
       "    </tr>\n",
       "    <tr>\n",
       "      <th>Senior U.S. Republican senator: 'Let Mr. Mueller do his job'</th>\n",
       "      <td>WASHINGTON (Reuters) - The special counsel inv...</td>\n",
       "      <td>politicsNews</td>\n",
       "      <td>December 31, 2017</td>\n",
       "    </tr>\n",
       "    <tr>\n",
       "      <th>FBI Russia probe helped by Australian diplomat tip-off: NYT</th>\n",
       "      <td>WASHINGTON (Reuters) - Trump campaign adviser ...</td>\n",
       "      <td>politicsNews</td>\n",
       "      <td>December 30, 2017</td>\n",
       "    </tr>\n",
       "    <tr>\n",
       "      <th>Trump wants Postal Service to charge 'much more' for Amazon shipments</th>\n",
       "      <td>SEATTLE/WASHINGTON (Reuters) - President Donal...</td>\n",
       "      <td>politicsNews</td>\n",
       "      <td>December 29, 2017</td>\n",
       "    </tr>\n",
       "  </tbody>\n",
       "</table>\n",
       "</div>"
      ],
      "text/plain": [
       "                                                                                                 text  \\\n",
       "title                                                                                                   \n",
       "As U.S. budget fight looms, Republicans flip th...  WASHINGTON (Reuters) - The head of a conservat...   \n",
       "U.S. military to accept transgender recruits on...  WASHINGTON (Reuters) - Transgender people will...   \n",
       "Senior U.S. Republican senator: 'Let Mr. Muelle...  WASHINGTON (Reuters) - The special counsel inv...   \n",
       "FBI Russia probe helped by Australian diplomat ...  WASHINGTON (Reuters) - Trump campaign adviser ...   \n",
       "Trump wants Postal Service to charge 'much more...  SEATTLE/WASHINGTON (Reuters) - President Donal...   \n",
       "\n",
       "                                                         subject  \\\n",
       "title                                                              \n",
       "As U.S. budget fight looms, Republicans flip th...  politicsNews   \n",
       "U.S. military to accept transgender recruits on...  politicsNews   \n",
       "Senior U.S. Republican senator: 'Let Mr. Muelle...  politicsNews   \n",
       "FBI Russia probe helped by Australian diplomat ...  politicsNews   \n",
       "Trump wants Postal Service to charge 'much more...  politicsNews   \n",
       "\n",
       "                                                                  date  \n",
       "title                                                                   \n",
       "As U.S. budget fight looms, Republicans flip th...  December 31, 2017   \n",
       "U.S. military to accept transgender recruits on...  December 29, 2017   \n",
       "Senior U.S. Republican senator: 'Let Mr. Muelle...  December 31, 2017   \n",
       "FBI Russia probe helped by Australian diplomat ...  December 30, 2017   \n",
       "Trump wants Postal Service to charge 'much more...  December 29, 2017   "
      ]
     },
     "execution_count": 12,
     "metadata": {},
     "output_type": "execute_result"
    }
   ],
   "source": [
    "real.head()"
   ]
  },
  {
   "cell_type": "markdown",
   "metadata": {},
   "source": [
    "The datasets both contain four columns which include: the article's title, the article's body text, the subject of the news, and the date the article was published. It's a fairly straightforward dataset, which is great to work with."
   ]
  },
  {
   "cell_type": "markdown",
   "metadata": {},
   "source": [
    "Let's check the info, describe, and value_counts aspects of the datasets."
   ]
  },
  {
   "cell_type": "code",
   "execution_count": 13,
   "metadata": {},
   "outputs": [
    {
     "name": "stdout",
     "output_type": "stream",
     "text": [
      "<class 'pandas.core.frame.DataFrame'>\n",
      "Index: 23481 entries,  Donald Trump Sends Out Embarrassing New Year’s Eve Message; This is Disturbing to 10 U.S. Navy Sailors Held by Iranian Military – Signs of a Neocon Political Stunt\n",
      "Data columns (total 3 columns):\n",
      " #   Column   Non-Null Count  Dtype \n",
      "---  ------   --------------  ----- \n",
      " 0   text     23481 non-null  object\n",
      " 1   subject  23481 non-null  object\n",
      " 2   date     23481 non-null  object\n",
      "dtypes: object(3)\n",
      "memory usage: 733.8+ KB\n"
     ]
    }
   ],
   "source": [
    "fake.info()"
   ]
  },
  {
   "cell_type": "code",
   "execution_count": 14,
   "metadata": {},
   "outputs": [
    {
     "data": {
      "text/html": [
       "<div>\n",
       "<style scoped>\n",
       "    .dataframe tbody tr th:only-of-type {\n",
       "        vertical-align: middle;\n",
       "    }\n",
       "\n",
       "    .dataframe tbody tr th {\n",
       "        vertical-align: top;\n",
       "    }\n",
       "\n",
       "    .dataframe thead th {\n",
       "        text-align: right;\n",
       "    }\n",
       "</style>\n",
       "<table border=\"1\" class=\"dataframe\">\n",
       "  <thead>\n",
       "    <tr style=\"text-align: right;\">\n",
       "      <th></th>\n",
       "      <th>text</th>\n",
       "      <th>subject</th>\n",
       "      <th>date</th>\n",
       "    </tr>\n",
       "  </thead>\n",
       "  <tbody>\n",
       "    <tr>\n",
       "      <th>count</th>\n",
       "      <td>23481</td>\n",
       "      <td>23481</td>\n",
       "      <td>23481</td>\n",
       "    </tr>\n",
       "    <tr>\n",
       "      <th>unique</th>\n",
       "      <td>17455</td>\n",
       "      <td>6</td>\n",
       "      <td>1681</td>\n",
       "    </tr>\n",
       "    <tr>\n",
       "      <th>top</th>\n",
       "      <td></td>\n",
       "      <td>News</td>\n",
       "      <td>May 10, 2017</td>\n",
       "    </tr>\n",
       "    <tr>\n",
       "      <th>freq</th>\n",
       "      <td>626</td>\n",
       "      <td>9050</td>\n",
       "      <td>46</td>\n",
       "    </tr>\n",
       "  </tbody>\n",
       "</table>\n",
       "</div>"
      ],
      "text/plain": [
       "         text subject          date\n",
       "count   23481   23481         23481\n",
       "unique  17455       6          1681\n",
       "top              News  May 10, 2017\n",
       "freq      626    9050            46"
      ]
     },
     "execution_count": 14,
     "metadata": {},
     "output_type": "execute_result"
    }
   ],
   "source": [
    "fake.describe()"
   ]
  },
  {
   "cell_type": "code",
   "execution_count": 17,
   "metadata": {},
   "outputs": [
    {
     "data": {
      "text/plain": [
       "text                                                                                                                                                                                                                                                                                                                                                                                                                                                                                                                                                                                                                                                                                                                                                                                                                                                                                                                                                                                                                                                                                                                                                                                                                                                                                                                                                                                                                                                                                                                                                                                                                                                                                                                                                                                                                                                                                                                                                                                                                                                                                                                                                                                                                                                                                                                                                                                                                                                                                                                                                                                                                                                                                                                                                                                                                                                                                                                                                                                                                                                                                                                                                                                                                                                                                                                                                                                                                                                                                                                                                                                                                                                                                                                                                                                                                                                                                                                                                                                                                                                                                                                                                                                                                                                                                                        subject          date             \n",
       "                                                                                                                                                                                                                                                                                                                                                                                                                                                                                                                                                                                                                                                                                                                                                                                                                                                                                                                                                                                                                                                                                                                                                                                                                                                                                                                                                                                                                                                                                                                                                                                                                                                                                                                                                                                                                                                                                                                                                                                                                                                                                                                                                                                                                                                                                                                                                                                                                                                                                                                                                                                                                                                                                                                                                                                                                                                                                                                                                                                                                                                                                                                                                                                                                                                                                                                                                                                                                                                                                                                                                                                                                                                                                                                                                                                                                                                                                                                                                                                                                                                                                                                                                                                                                                                                                                            politics         Mar 25, 2017         6\n",
       "                                                                                                                                                                                                                                                                                                                                                                                                                                                                                                                                                                                                                                                                                                                                                                                                                                                                                                                                                                                                                                                                                                                                                                                                                                                                                                                                                                                                                                                                                                                                                                                                                                                                                                                                                                                                                                                                                                                                                                                                                                                                                                                                                                                                                                                                                                                                                                                                                                                                                                                                                                                                                                                                                                                                                                                                                                                                                                                                                                                                                                                                                                                                                                                                                                                                                                                                                                                                                                                                                                                                                                                                                                                                                                                                                                                                                                                                                                                                                                                                                                                                                                                                                                                                                                                                                                                             Dec 18, 2016         5\n",
       "                                                                                                                                                                                                                                                                                                                                                                                                                                                                                                                                                                                                                                                                                                                                                                                                                                                                                                                                                                                                                                                                                                                                                                                                                                                                                                                                                                                                                                                                                                                                                                                                                                                                                                                                                                                                                                                                                                                                                                                                                                                                                                                                                                                                                                                                                                                                                                                                                                                                                                                                                                                                                                                                                                                                                                                                                                                                                                                                                                                                                                                                                                                                                                                                                                                                                                                                                                                                                                                                                                                                                                                                                                                                                                                                                                                                                                                                                                                                                                                                                                                                                                                                                                                                                                                                                                                             Feb 28, 2017         5\n",
       "                                                                                                                                                                                                                                                                                                                                                                                                                                                                                                                                                                                                                                                                                                                                                                                                                                                                                                                                                                                                                                                                                                                                                                                                                                                                                                                                                                                                                                                                                                                                                                                                                                                                                                                                                                                                                                                                                                                                                                                                                                                                                                                                                                                                                                                                                                                                                                                                                                                                                                                                                                                                                                                                                                                                                                                                                                                                                                                                                                                                                                                                                                                                                                                                                                                                                                                                                                                                                                                                                                                                                                                                                                                                                                                                                                                                                                                                                                                                                                                                                                                                                                                                                                                                                                                                                                                             Oct 9, 2016          5\n",
       "                                                                                                                                                                                                                                                                                                                                                                                                                                                                                                                                                                                                                                                                                                                                                                                                                                                                                                                                                                                                                                                                                                                                                                                                                                                                                                                                                                                                                                                                                                                                                                                                                                                                                                                                                                                                                                                                                                                                                                                                                                                                                                                                                                                                                                                                                                                                                                                                                                                                                                                                                                                                                                                                                                                                                                                                                                                                                                                                                                                                                                                                                                                                                                                                                                                                                                                                                                                                                                                                                                                                                                                                                                                                                                                                                                                                                                                                                                                                                                                                                                                                                                                                                                                                                                                                                                                             Oct 22, 2016         4\n",
       "                                                                                                                                                                                                                                                                                                                                                                                                                                                                                                                                                                                                                                                                                                                                                                                                                                                                                                                                                                                                                                                                                                                                                                                                                                                                                                                                                                                                                                                                                                                                                                                                                                                                                                                                                                                                                                                                                                                                                                                                                                                                                                                                                                                                                                                                                                                                                                                                                                                                                                                                                                                                                                                                                                                                                                                                                                                                                                                                                                                                                                                                                                                                                                                                                                                                                                                                                                                                                                                                                                                                                                                                                                                                                                                                                                                                                                                                                                                                                                                                                                                                                                                                                                                                                                                                                                                                                 ..\n",
       "Republicans apparently have no idea what they believe anymore. The only constant in the GOP universe these days is believing whatever it is Trump wants them to believe.That s the only explanation I can think of for the results of the following polls. This one, from Politico, shows overwhelming numbers of Republican supporting direct federal negotiation with individual businesses, tax breaks or incentives offered to specific individual businesses ( crony capitalism ), and advantages on government contractors for specific businesses:The best part? Even the GOP platform doesn t agree! Here s more, directly from the 2016 platform:Cronyism is inherent in the progressive vision of the administrative state. When government uses taxpayer funding and resources to give special advantages to private companies, it distorts the free market and erodes public trust in our political system. By enlarging the scope of government and placing enormous power in the hands of bureaucrats, it multiplies opportunities for corruption and favoritism. It is the enemy of reform in education, the workplace, and healthcare. It gives us financial regulation that protects the large at the cost of the small. It is inherent in every part of the current healthcare law, which is packed with corporate welfare. Crony capitalism gives us special interest tax breaks, custom-designed regulations, and special exemptions for favored parties. The Solyndra debacle is a perfect example. It creates both subsidies and restrictions to tilt the market one way or the other. By putting the weight of government behind the status quo, it leads to economic stagnation.Now, I feel it is important to note that I don t agree with Republican economic theories at all. There is no such thing as a truly  free market  when markets are an abstract concept defined by and regulated by a central authority   no matter how much libertarian-minded conservatives may wish otherwise. Yet it can t be denied that Trump and pence   and GOP views right now overall   do not see remotely eye to eye with the stance outlined in the platform.Strong regulatory rules that are the same for everyone (progressive economics) are a far cry from  whoever the president wants to win, wins.  What Republicans are currently claiming to be in support of isn t a free market. It s fascism, and it s as big as big government gets. Even Sarah fucking Palin understands that!It gets better. Another poll, from the Economist/YouGov, shows that Republicans are completely open with their newfound lack of free market economics:As you can see, traditional politics has been turned on its head   this poll shows MUCH higher support for free market economics among Democrats and independents than Republicans.Now, interpretation. I don t think anything has actually changed at all for the average Republican voter. They believe the same things day to day they always did. They re just not that smart, and they have way too much respect for authoritative leaders   they re authoritarian followers who think a  strong  leader like Trump always knows what is best. So this is less of a case of switched beliefs, and more a case of  whatever dad says goes. Some conservative leaders have tried to fight back against Trump s professed love of fascist economics, but the reasonable voices in the GOP (by their standard) should have learned that they were drowned out long ago. This is Trump s party now. And soon, it s Trump s America.The right wing has lost all sense of leadership and guidance and is now abandoning its own core principles in a desperate bid to retain power. And I don t mean over one election   they know the future of their party is in danger. Hillary s 2.6 million popular vote victory, the simmering anger of a large number of Americans, and the upcoming census elections are ensuring that the few smart Republicans left see the writing on the wall: unless they pull off some massive populist victories during the next few years, they re doomed.With Trump at the helm and support for fascism on the rise, things are not looking good.Featured image partial shot of embedded Politico poll  News             December 6, 2016     1\n",
       "Republicans are about to lose a huge source of funding as the Justice Department announces it will phase out its usage of the highly controversial (and highly racist) use of the private prison complex.The DOJ, under the leadership of Loretta Lynch, made the determination after evidence from the Inspector General s office showed private systems were less safe and less effective than state/government run facilities. Consequently, the DOJ has instructed all government contractors not to renew contracts with any private prison operations and to  substantially reduce  already existing contracts.In a statement, Deputy Attorney General Sally Yates highlighting the many faults plaguing the private system: They simply do not provide the same level of correctional services, programs, and resources; they do not save substantially on costs; and as noted in a recent report by the Department s Office of Inspector General, they do not maintain the same level of safety and security. Another cause for the discontinuation of the private system was the decline of America s prison population, which once exploded in the late 1990s and early 2000s. As recently as 10 years ago, the Department of Justice, under the Bush Administration, began contracting with private prisons to contain a population made up of seemingly petty crimes that disproportionally affected blacks and other minorities.In total, these 13 private prisons across the country will be losing their government contracts, putting a severe dent in their funding. Considering the report also detailed higher levels of assault   both by inmates and staff   and higher rates of contraband, this is a perfect example of wasteful spending Republicans are always decrying. Luckily, the Obama Administration recognizes this and is taking care of it, all without the help of the GOP.Currently, private prisons account for 12 percent of the nation s prison population at just over 22,000 inmates. According to Corrections Corporation America, the United States spent $639 million on private prisons in the 2014-2015 fiscal budget.Once again, the Obama Administration is cleaning up a big mess made by President Bush.A dark stain on modern America is finally breaking apart. Private prisons, a staple in the age of modern Jim Crow, have outlived their use (if they were ever useful in the first place). The Justice Department s decision to end its contractual obligations is a huge step in the right direction, but it remains to be seen if states like Arizona, who put funding for prisons over education, will follow the lead.Featured image via Allison Shelley/Getty Images                                                                                                                                                                                                                                                                                                                                                                                                                                                                                                                                                                                                                                                                                                                                                                                                                                                                                                                                                                                                                                                                                                                                                                                                                                                                                                                                                                                                                                                                                                                                                                          News             August 18, 2016      1\n",
       "Republicans are already predicting doom and gloom for November. Since Donald Trump seems not to grasp what  get on message  means (they ve been telling him to do that for months), members of the Republican Party are already predicting Hillary Clinton as the victor.In an exclusive with The Hill, several members of the House GOP caucus under anonymity, who back Trump, now say they are preparing for a Clinton sweep in November.One  Southern lawmaker,  who is a Trump supporter, told the Hill:I m not feeling great about the immediate future of the conservative movement right now. As a conservative who believes our ideas are good for America, it is pretty gloomy these days.The southern lawmaker acknowledged Trump would be a difficult candidate to sell to the American people, considering the GOP s lack of a coalition with women, minorities, LGBT, and youth voters (yet they re still a Trump supporter), which means they don t care about the bran issues facing their party. There was some hope that the disaffected, so-called silent majority would be broad enough and turn out in large enough numbers to give Trump a chance. But if he continues the next 90 days like the last week, then he will lose big time,  the southern lawmaker told the Hill.One  Northeastern lawmaker  was more candid with his feelings:I think it will be Hillary. If I had to bet, I d definitely  bet that Trump loses. This is like a football game where you hate both teams. You root for a tie   and maybe some minor injuries.Right now, it sucks to be a Republican. Rep. Matt Salmon, who originally backed Marco Rubio, then Ted Cruz and now Trump, admitted a Trump win will be a  steep climb.  That s because the GOP didn t listen to their 2012 autopsy report, and they are paying the price. But not all members of the GOP are ignoring the findings from their last loss in 2012. Rep. Charlie Dent of Pennsylvania told the Hill that the GOP must learn from their autopsy report if they hope to win:Another autopsy will occur, and the next time I hope lessons will be learned.Fat chance that will happen. They seriously thought Romney was going to beat President Obama, and decided to disregard all the points they missed when he didn t win.The GOP is bracing for a Clinton win, and so is the rest of he country   anything is better than Donald Trump.Featured image via Joe Readle/Getty Images                                                                                                                                                                                                                                                                                                                                                                                                                                                                                                                                                                                                                                                                                                                                                                                                                                                                                                                                                                                                                                                                                                                                                                                                                                                                                                                                                                                                                                                                                                                                                                                                                                                                                                                                                                                                                                            News             August 11, 2016      1\n",
       "Republicans are already touting their intention to dismantle Medicare and Donald Trump is poised to be the rubber stamp. But Democrats are prepared to do whatever it takes to stop them.House Speaker Paul Ryan has been waiting for a puppet president to come along for a long time now so that he can get his plan to kill Medicare signed into law.Now he has one, and has made little effort to hide his intention to target Medicare on the first day Trump takes office.Ryan s plan would privatize Medicare, which basically means he would give it to Wall Street and turn it into a voucher system. Medicare itself would whither of the vine and die and anyone who is on Medicare or looked forward to it would be shit out of luck because they would get less care at higher prices.On Tuesday, Kellyanne Conway even signaled that Trump will consider Ryan s proposal to gut Medicare. He will, I m sure, take a look at Speaker Ryan s proposal and other proposals,  Conway said.  In this case, he will go ahead and look at alternatives. Well, if Republicans thought they would be able to just jam through whatever laws they want, they are gravely mistaken.Incoming Senate Minority Leader Chuck Schumer fired a warning shot at the GOP on Friday making it clear that Democrats will fight tooth and nail to block any Republican bill that dismantles the popular healthcare program that has been working perfectly since 1966 when it was enacted. The Republicans  ideological and visceral hatred of government could deny millions of senior citizens across the country the care they need and deserve,  Schumer said.  To our Republican colleagues considering this path, Democrats say,  Make our day.  Your effort will fail, and this attack on our seniors will not stand. Nancy Pelosi chimed in with a warning of her own. It s ideological with the speaker to take away the guarantee of Medicare,  she said.  But [the program] is a fundamental pillar of health and economic security. And we will not go down that path. In short, Democrats in the House and Senate are prepared to to obstruct Republicans in the same way they obstructed President Obama over the last eight years. And that s exactly what Democrats need to do. They need to more vicious and uncooperative than Republicans ever were. It s time to give them a taste of their own medicine for America s sake. Anything less should be punished harshly when the midterm elections roll around in 2018. So Democrats better hold the line and fiercely defend America s social contract or they can expect primary challenges. There is absolutely no excuse for Democrats to treat Trump better than Republicans treated President Obama. In fact, there is every reason to treat him worse. The future of our country depends on it.Featured Image: Zach Gibson/Getty Images                                                                                                                                                                                                                                                                                                                                                                                                                                                                                                                                                                                                                                                                                                                                                                                                                                                                                                                                                                                                                                                                                                                                                                                                                                                                                                                                                                                                    News             November 25, 2016    1\n",
       "                                                                                                                                                                                                                                                                                                                                                                                                                                                                                                                                                                                                                                                                                                                                                                                                                                                                                                                                                                                                                                                                                                                                                                                                                                                                                                                                                                                                                                                                                                                                                                                                                                                                                                                                                                                                                                                                                                                                                                                                                                                                                                                                                                                                                                                                                                                                                                                                                                                                                                                                                                                                                                                                                                                                                                                                                                                                                                                                                                                                                                                                                                                                                                                                                                                                                                                                                                                                                                                                                                                                                                                                                                                                                                                                                                                                                                                                                                                                                                                                                                                                                                                                                                                                                                                                                                            Government News  Apr 14, 2015         1\n",
       "Length: 23216, dtype: int64"
      ]
     },
     "execution_count": 17,
     "metadata": {},
     "output_type": "execute_result"
    }
   ],
   "source": [
    "fake.value_counts()"
   ]
  },
  {
   "cell_type": "code",
   "execution_count": 15,
   "metadata": {},
   "outputs": [
    {
     "name": "stdout",
     "output_type": "stream",
     "text": [
      "<class 'pandas.core.frame.DataFrame'>\n",
      "Index: 21417 entries, As U.S. budget fight looms, Republicans flip their fiscal script to Indonesia to buy $1.14 billion worth of Russian jets\n",
      "Data columns (total 3 columns):\n",
      " #   Column   Non-Null Count  Dtype \n",
      "---  ------   --------------  ----- \n",
      " 0   text     21417 non-null  object\n",
      " 1   subject  21417 non-null  object\n",
      " 2   date     21417 non-null  object\n",
      "dtypes: object(3)\n",
      "memory usage: 669.3+ KB\n"
     ]
    }
   ],
   "source": [
    "real.info()"
   ]
  },
  {
   "cell_type": "code",
   "execution_count": 16,
   "metadata": {
    "scrolled": true
   },
   "outputs": [
    {
     "data": {
      "text/html": [
       "<div>\n",
       "<style scoped>\n",
       "    .dataframe tbody tr th:only-of-type {\n",
       "        vertical-align: middle;\n",
       "    }\n",
       "\n",
       "    .dataframe tbody tr th {\n",
       "        vertical-align: top;\n",
       "    }\n",
       "\n",
       "    .dataframe thead th {\n",
       "        text-align: right;\n",
       "    }\n",
       "</style>\n",
       "<table border=\"1\" class=\"dataframe\">\n",
       "  <thead>\n",
       "    <tr style=\"text-align: right;\">\n",
       "      <th></th>\n",
       "      <th>text</th>\n",
       "      <th>subject</th>\n",
       "      <th>date</th>\n",
       "    </tr>\n",
       "  </thead>\n",
       "  <tbody>\n",
       "    <tr>\n",
       "      <th>count</th>\n",
       "      <td>21417</td>\n",
       "      <td>21417</td>\n",
       "      <td>21417</td>\n",
       "    </tr>\n",
       "    <tr>\n",
       "      <th>unique</th>\n",
       "      <td>21192</td>\n",
       "      <td>2</td>\n",
       "      <td>716</td>\n",
       "    </tr>\n",
       "    <tr>\n",
       "      <th>top</th>\n",
       "      <td>(Reuters) - Highlights for U.S. President Dona...</td>\n",
       "      <td>politicsNews</td>\n",
       "      <td>December 20, 2017</td>\n",
       "    </tr>\n",
       "    <tr>\n",
       "      <th>freq</th>\n",
       "      <td>8</td>\n",
       "      <td>11272</td>\n",
       "      <td>182</td>\n",
       "    </tr>\n",
       "  </tbody>\n",
       "</table>\n",
       "</div>"
      ],
      "text/plain": [
       "                                                     text       subject  \\\n",
       "count                                               21417         21417   \n",
       "unique                                              21192             2   \n",
       "top     (Reuters) - Highlights for U.S. President Dona...  politicsNews   \n",
       "freq                                                    8         11272   \n",
       "\n",
       "                      date  \n",
       "count                21417  \n",
       "unique                 716  \n",
       "top     December 20, 2017   \n",
       "freq                   182  "
      ]
     },
     "execution_count": 16,
     "metadata": {},
     "output_type": "execute_result"
    }
   ],
   "source": [
    "real.describe()"
   ]
  },
  {
   "cell_type": "code",
   "execution_count": 19,
   "metadata": {},
   "outputs": [
    {
     "data": {
      "text/plain": [
       "text                                                                                                                                                                                                                                                                                                                                                                                                                                                                                                                                                                                                                                                                                                                                                                                                                                                                                                                                                                                                                                                                                                                                                                                                                                                                                                                                                                                                                                                                                                                                                                                                                                                                                                                                                                                                                                                                                                                                                                                                                                                                                                                                                                                                                                                                                                                                                                                                                                                                                                                                                                                                                                                                                                                                                                                                                                                                                                                                                                                                                                                                                                                                                                                                                                                                                                                                                                                                                                                                                                                                                                                                                                                                                                                                                                                                                                                                                                                                                                                                                                                                                                                                                                                                                                                                                                                                                                                                                                                                                                                                                                                                                                                                                                                                                                                                                                                                                                                                                                                                                                                                                                                                                                                                                                                                                                                                                                                                                                                           subject       date              \n",
       "(Reuters) - Highlights for U.S. President Donald Trump’s administration on Thursday: The United States drops a massive GBU-43 bomb, the largest non-nuclear bomb it has ever used in combat, in Afghanistan against a series of caves used by Islamic State militants, the Pentagon says. Trump says Pyongyang is a problem that “will be taken care of” amid speculation that North Korea is on the verge of a sixth nuclear test. Military force cannot resolve tension over North Korea, China warns, while an influential Chinese newspaper urges Pyongyang to halt its nuclear program in exchange for Beijing’s protection. The Trump administration is focusing its North Korea strategy on tougher economic sanctions, possibly including intercepting cargo ships and punishing Chinese banks doing business with Pyongyang, U.S. officials say. Trump says “things will work out fine” between the United States and Russia, a day after declaring U.S.-Russian relations may be at an all-time low. Trump signals he could be moving closer to the mainstream on monetary policy, saying he has not ruled out reappointment of Janet Yellen as Federal Reserve chair as he considers his choices for the U.S. central bank. [nL1N1HL14B] Trump signs a resolution that will allow U.S. states to restrict how federal funds for contraception and reproductive health are spent, a move cheered by anti-abortion campaigners. Democratic Senator Chris Van Hollen presses Deutsche Bank to release information about issues including Trump’s debt and any bank meetings with Trump administration officials, saying he has “great concern” about possible conflicts of interest. EXPORT-IMPORT BANK Trump’s office says he plans to revive the hobbled Export-Import Bank of the United States, a victory for American manufacturers such as Boeing Co and General Electric Co that have overseas customers that use the agency’s government-backed loans to purchase their products. Top Wall Street bankers say they are having positive discussions about financial regulation in Washington, and downplay the idea U.S. policymakers may force their institutions to split up. The United States is pushing for trade to be a key issue in top-level economic talks with Japan, a source says, an unwelcome development for Tokyo, which is seeking to fend off U.S. pressure to reduce the bilateral trade imbalance. Trump’s administration has focused on one group of illegal immigrants more than others: women with children, according to eight Department of Homeland Security officials interviewed by Reuters about agency planning.                                                                                                                                                                                                                                                                                                                                                                                                                                                                                                                                                                                                                                                                                                                                                                                                                                                                                                                                                                                                                                                                                                                                                                                                                                                                                                                                                                                                                                                                                                                                                                                                                                                                                                                                                                                                                                                                                                                                                                                                                                                                                                                                                                                                                                                                                                                                                                                                                                                                                                                                                                                                                                                                                                                                                                                                 politicsNews  April 13, 2017        8\n",
       "(Reuters) - Highlights of the day for U.S. President Donald Trump’s administration on Friday: Trump backs a decision by his former national security adviser, Michael Flynn, to seek immunity in congressional investigations of possible ties between his campaign and Russia, but there is no immediate sign the request will be granted.  The Trump administration slams China on a range of trade issues from its chronic industrial overcapacity to forced technology transfers and longstanding bans on U.S. beef and electronic payment services. Beijing seeks to play down tensions with the United States and put on a positive face ahead of President Xi Jinping’s first meeting with Trump next week. Senate Democrats step closer to having enough votes to block a confirmation vote on Trump’s Supreme Court nominee with three more Democratic senators coming out against Neil Gorsuch for the lifetime job as a justice. Trump seeks to push his plan for fair trade and more manufacturing jobs back to the top of his agenda by ordering a study into the causes of U.S. trade deficits and a clampdown on import duty evasion. Trump has neither a clear White House tax plan nor adequate staff yet to see through a planned tax overhaul, according to interviews with people in the administration, in Congress and among U.S. tax experts. Democrats are trying to counter Trump’s boldest move yet to defang the U.S. consumer financial watchdog, with 40 current and former lawmakers defending the agency in court. The U.S. Environmental Protection Agency’s scientific integrity watchdog is reviewing whether EPA chief Scott Pruitt violated the agency’s policies when he said in a television interview he does not believe carbon dioxide is driving global climate change, according to an email seen by Reuters. Trump will seek to rebuild the U.S. relationship with Egypt at a meeting on Monday with Egyptian President Abdel Fattah al-Sisi focused on security issues and military aid, a senior White House official says. Trump will host Jordan’s King Abdullah at the White House next week to discuss the fight against Islamic State militants, the Syria crisis and advancing peace between Israelis and Palestinians, the White House says. A U.S. judge approves a $25 million settlement to resolve a class action lawsuit that claimed fraud against Trump and his Trump University real estate seminars.                                                                                                                                                                                                                                                                                                                                                                                                                                                                                                                                                                                                                                                                                                                                                                                                                                                                                                                                                                                                                                                                                                                                                                                                                                                                                                                                                                                                                                                                                                                                                                                                                                                                                                                                                                                                                                                                                                                                                                                                                                                                                                                                                                                                                                                                                                                                                                                                                                                                                                                                                                                                                                                                                                                                                                                                                                                                                                                                                                                             politicsNews  March 31, 2017        5\n",
       "(Reuters) - Highlights for U.S. President Donald Trump’s administration on Friday: Trump promises a big announcement about tax reform next week and orders an administration review of Obama-era tax rules written to discourage U.S. companies from relocating overseas to cut their tax bills. Trump tells the Treasury Department to examine two powers given to regulators to police large financial companies following the 2008 financial crisis. South Korea says it is on heightened alert ahead of another important anniversary in North Korea, with a large concentration of military hardware amassed on both sides of the border amid concerns about a new nuclear test by Pyongyang. Trump, striving to make good on a top campaign promise, is pushing fellow Republicans who control Congress to pass revamped healthcare legislation but the same intraparty squabbling that torpedoed it last month could do it again. Defense Secretary Jim Mattis says Syria has dispersed its warplanes in recent days and that it retains chemical weapons, an issue he says will have to be taken up diplomatically. The Department of Justice threatens to cut off funding to California as well as eight cities and counties across the United States, escalating a Trump administration crackdown on so-called “sanctuary cities” that do not cooperate with federal immigration authorities. The United States will not make an exception for American companies, including oil major Exxon Mobil Corp, seeking to drill in areas prohibited by U.S. sanctions on Russia, Treasury Secretary Steven Mnuchin says.  Trump and his fellow Republicans who control Congress face their first major budget test next week, with the threat of a government shutdown potentially hinging on his proposed Mexican border wall as well as Obamacare funding. The House of Representatives Intelligence Committee says it has invited FBI, National Security Agency and Obama administration officials to testify as it restarts its investigation into alleged Russian meddling in the 2016 U.S. election. U.N. Secretary-General Antonio Guterres meets with Trump at the White House for the first time since both took office earlier this year and amid a U.S. push to cut funding to the world body and its agencies. The United States has offered to help fund Mexico’s efforts to eradicate opium poppies, a U.S. official says, as Mexican heroin output increased again last year.                                                                                                                                                                                                                                                                                                                                                                                                                                                                                                                                                                                                                                                                                                                                                                                                                                                                                                                                                                                                                                                                                                                                                                                                                                                                                                                                                                                                                                                                                                                                                                                                                                                                                                                                                                                                                                                                                                                                                                                                                                                                                                                                                                                                                                                                                                                                                                                                                                                                                                                                                                                                                                                                                                                                                                                                                                                                                                                                                               politicsNews  April 21, 2017        5\n",
       "(Reuters) - Highlights for U.S. President Donald Trump’s administration on Wednesday: Trump proposes slashing tax rates for businesses and on overseas corporate profits returned to the country in a plan greeted as an opening gambit by his fellow Republicans in Congress. Trump’s plan could shift the U.S. economy into higher gear but could have one effect the White House would not welcome — interest rates ratcheted higher than expected by a wary central bank. The Trump tax cut will generate growth but not nearly enough to replace trillions of dollars in lost revenues, while rising deficits could even take back some of the economic gains, fiscal experts say. Congress inches toward a deal to fund the government through September but is preparing to possibly extend a midnight Friday deadline in order to wrap up negotiations and avoid an imminent government shutdown. Trump is considering issuing an executive order to pull the United States from the North American Free Trade Agreement, an administration official says, a move that could unravel one of the world’s biggest trading blocs. Trump and Canadian Prime Minister Justin Trudeau discuss bilateral trade in their second conversation in as many days  amid strains over softwood lumber and dairy. The Trump administration says it aims to push North Korea into dismantling its nuclear and missile programs through tougher international sanctions and diplomatic pressure, and remains open to negotiations to bring that about. Trump gives the military the authority to reset a confusing system of troop limits in Iraq and Syria that critics say allows the White House to micro-manage battlefield decisions and ultimately obscures the real number of U.S. forces. Trump signs an executive order to allow national monument designations to be rescinded or reduce the size of sites as the administration pushes to open more federal land to drilling, mining and other development. Trump orders Education Secretary Betsy DeVos to review the government role in school policy, which supporters cheer as a step in creating more local control in education and critics worry it could lead to lower quality schools in poorer neighborhoods. Israel’s intelligence minister says his country wants an “understanding” with the Trump administration that Iran must not be allowed to establish a permanent military foothold in Syria.                                                                                                                                                                                                                                                                                                                                                                                                                                                                                                                                                                                                                                                                                                                                                                                                                                                                                                                                                                                                                                                                                                                                                                                                                                                                                                                                                                                                                                                                                                                                                                                                                                                                                                                                                                                                                                                                                                                                                                                                                                                                                                                                                                                                                                                                                                                                                                                                                                                                                                                                                                                                                                                                                                                                                                                                                                                                                                                                                                                            politicsNews  April 26, 2017        3\n",
       "LIMA (Reuters) - Peru s President Pedro Pablo Kuczynski on Wednesday signaled both his vice presidents would resign if Congress forced him from office, calling an opposition bid to remove him a  coup  attempt that had to be resisted. The rightwing populist party that controls Congress, Popular Force, aims to oust Kuczynski in a vote on Thursday on grounds he is  morally unfit  to govern, after finding he once had business connections with a company at the center of Latin America s biggest graft scandal. Kuczynski, who denies anything improper or illegal, said Popular Force was misusing its majority to attempt a power grab.  The constitution and democracy are under attack. We re facing a coup dressed in supposedly legitimate legal interpretations,  he said in a late night speech on national television.  This is a conviction that my two vice presidents share, because neither wants to be part of a government born of an unjust and anti-democratic maneuver,  Kuczynski said. He was flanked by First Vice President Martin Vizcarra and Second Vice President Mercedes Araoz. If Kuczynski loses Thursday s congressional vote to remove him and his two vice presidents depart as well, new presidential and legislative elections would be called. A 79-year-old former Wall Street banker, Kuczynski has struggled to govern since winning last year s presidential election but only a small share of congressional seats for his center-right party. Popular Force says its efforts to remove him are well within the bounds of the constitution and key to its fight against corruption.  He simply doesn t care about the country,  Popular Force lawmaker Luz Salgado said after Kuczynski s address. Earlier this week, Salgado called for Vizcarra to govern the country through 2021, when Kucyznski s term ends. Vizcarra and Araoz both pledged their loyalty to the center-right president on Wednesday but declined to comment on whether that meant they would resign if he was removed from office. Araoz told Reuters on Sunday that she and Vizcarra would not quit. In recent days, Kuczynski s supporters have increasingly called for his vice presidents to refuse to replace him. They believe new elections would cost Popular Force its majority amid widespread contempt for elected officials as a graft scandal taints much of the country s political class. But investors worry a new ballot could sweep anti-establishment candidates to power in one of Latin America s most stable economies. Kuczynski s government does not think it will come to that, said a government source. It expects about a dozen opposition lawmakers to oppose the motion or abstain from voting, said the source, who spoke on condition of anonymity. Eighty-seven votes are needed to oust Kuczynski. Congress passed the motion to start  presidential vacancy  proceedings last week with 93 votes. On Wednesday, thousands of Peruvians marched in front of Congress to denounce what they saw as Popular Force s bid to exploit the crisis to sabotage country s democratic institutions, pointing to its recent efforts to also oust the attorney general and a justice in the Constitutional Court. Popular Force emerged from the rightwing populist movement started in the 1990s by former President Alberto Fujimori, who is serving a 25-year-sentence for graft and human rights crimes during his autocratic 1990-2000 government. The United States, where Kuczynski once held citizenship, said Peru was a  strong democracy.   We are confident that the Peruvian people and institutions will address this situation according to Peru s constitutional norms,  the U.S. State Department s Bureau of Western Hemisphere Affairs said. The political crisis stems from a disclosure by Brazilian builder Odebrecht [ODBES.UL], which has landed elites in jail from Colombia to the Dominican Republic since acknowledging bribing officials across the region for much of the century. Responding to a request by Congress, Odebrecht said it paid more than $4 million to consulting companies owned by Kuczynski or a close business associate for about a decade starting in 2004. Some deposits were made to a company Kuczynski owned while he was minister in a government that awarded Odebrecht lucrative contracts. Odebrecht said Saturday that there was no indication the transactions were part of its past corrupt dealings with politicians, which it can only discuss with prosecutors. Kuczynski once strenuously denied ever having any ties with Odebrecht. He has since apologized to Peru for not disclosing his connections with the company, blaming forgetfulness and poor organization of his personal records after decades of work in finance and public administration. But he said there was nothing improper about the payments.  Being careless and sloppy is a defect but it is not...a tool for dishonesty and much, much less, for crime,  Kuczynski said. Kuczynski had once raised hopes that his decades of finance and public administration experience would usher in a new period of investments to spur faster economic growth in the world s No.2 copper producer. But in a sign of how the crisis has engulfed his government, Peru postponed an auction of a $2 billion copper project, scheduled for Wednesday, until February.    worldnews     December 20, 2017     2\n",
       "                                                                                                                                                                                                                                                                                                                                                                                                                                                                                                                                                                                                                                                                                                                                                                                                                                                                                                                                                                                                                                                                                                                                                                                                                                                                                                                                                                                                                                                                                                                                                                                                                                                                                                                                                                                                                                                                                                                                                                                                                                                                                                                                                                                                                                                                                                                                                                                                                                                                                                                                                                                                                                                                                                                                                                                                                                                                                                                                                                                                                                                                                                                                                                                                                                                                                                                                                                                                                                                                                                                                                                                                                                                                                                                                                                                                                                                                                                                                                                                                                                                                                                                                                                                                                                                                                                                                                                                                                                                                                                                                                                                                                                                                                                                                                                                                                                                                                                                                                                                                                                                                                                                                                                                                                                                                                                                                                                                                                                                                                                  ..\n",
       "VATICAN CITY (Reuters) - Pope Francis welcomed the poor, homeless and unemployed as guests of honor for a Mass and gourmet meal in the Vatican on Sunday, saying that helping the needy was one way of obtaining a  passport to paradise . Francis celebrated a Mass marking the Roman Catholic Church s first yearly World Day of the Poor, which the pope established to draw the attention of the world s 1.2 billion Catholics to the neediest. Volunteers from charity organizations brought about 7,000 needy people to St Peter s Basilica for a special Mass celebrated by the pope, who has made defense of the poor, immigrants and downtrodden a major plank of his papacy. About 1,500 of them were having lunch with the pope in the Vatican s large audience hall and others were being taken to eat as guests in nearby pontifical colleges. Most of the needy people were from Rome and other parts of Italy but charity groups also brought groups from France, Spain, Germany and Poland.  If in the eyes of the world they (the poor) have little value, they are the ones who open to us the way to heaven; they are our  passport to paradise . For us it is an evangelical duty to care for them ...,  he said in his homily.  God will not ask us if we felt righteous indignation, but whether we did some good,  he said, labeling indifference as a sin of omission. The pope said this  is when we say,  that doesn t concern me; it s not my business, it s society s problem.   It is when we turn away from a brother or sister in need, when we change channels as soon as a disturbing question comes up, when we grow indignant at evil but do nothing about it.  The menu for the poor was selected by Sergio Dussin, the same chef who prepares meals for visiting dignitaries at Vatican conferences. It consisted of dishes the poor can only dream of: mini gnocchi, fish with tomatoes, olives, Venetian cheese, veal with vegetables and Venetian-style tiramisu for dessert. Three days after his election in 2013, Francis said:  Oh, how I would like a poor Church, and for the poor.  He since given up some of the trappings of the papacy, shunning the spacious papal apartments in the Vatican s Apostolic Palace for a modest residence in a guest house.  He also has put aside the papal limousine and is driven around Rome in a simple blue Ford Focus.                                                                                                                                                                                                                                                                                                                                                                                                                                                                                                                                                                                                                                                                                                                                                                                                                                                                                                                                                                                                                                                                                                                                                                                                                                                                                                                                                                                                                                                                                                                                                                                                                                                                                                                                                                                                                                                                                                                                                                                                                                                                                                                                                                                                                                                                                                                                                                                                                                                                                                                                                                                                                                                                                                                                                                                                                                                                                                                                                                                                                                                  worldnews     November 19, 2017     1\n",
       "VATICAN CITY (Reuters) - Pope Francis will meet Myanmar s top Buddhist monks, its military generals and civilian leader Aung San Suu Kyi in November when he visits that country and Bangladesh, both caught up in a crisis over the Rohingya Muslim minority.   According to a full program of the Nov. 26-Dec. 2 trip released by the Vatican on Tuesday, the pope will say two Masses in Buddhist-majority Myanmar and one in Bangladesh, which is predominantly Muslim. Francis will be the first pope to visit Myanmar and the second to visit Bangladesh, where Pope John Paul visited in 1986. The pope arrives in Yangon, the country s largest city, on Nov. 27 after a flight of more than 10 hours and is scheduled to rest for about 24 hours before heading to the country s capital Naypyitaw for a day.   There, he will have separate private talks with President Htin Kyaw and Suu Kyi, who is both State Counsellor and Foreign Minister, making her effectively the country s civilian leader.   A senior Vatican official said military leaders are expected to attend a separate, public meeting where the pope will address politicians and diplomats. This is where he is expected to give the keynote speech of the trip.   Myanmar is facing international scrutiny over the plight of its Rohingya community. In February, Francis said they had been tortured and killed simply because they wanted to live their culture and Muslim faith.   Last August, some hard-line Buddhists were riled with the pope spoke about  the persecution of our Rohingya brothers and sisters  and asked Catholics to pray for them, adding that they should be given  their full rights .   On Nov. 29, the pope will address the Sangha Maha Nayaka, the country s highest Buddhist authority, which is a government-backed panel of senior monks responsible for regulating the Buddhist clergy.   The United Nations refugee agency said on Tuesday that Bangladesh border guards reported more than 11,000 Rohingya refugees crossing into their country from Myanmar on Monday alone..   The government offensive has drawn international condemnation and U.N. accusations of ethnic cleansing, which the government denies.   There are about 700,000 Roman Catholics in Myanmar according to the country s cardinal, Charles Maung Bo, out of a population of about 51.4 million.   Catholics make up a tiny minority in Bangladesh. Francis will be the second pope to visit that country, after Pope John Paul in 1986. (This refiled version of the story adds dropped numeral in second paragraph Nov 26 instead of 6).                                                                                                                                                                                                                                                                                                                                                                                                                                                                                                                                                                                                                                                                                                                                                                                                                                                                                                                                                                                                                                                                                                                                                                                                                                                                                                                                                                                                                                                                                                                                                                                                                                                                                                                                                                                                                                                                                                                                                                                                                                                                                                                                                                                                                                                                                                                                                                                                                                                                                                                                                                                                                                                                                                                                                                                                              worldnews     October 10, 2017      1\n",
       "VATICAN CITY (Reuters) - Pope Francis will meet the head of Myanmar s army and Rohingya refugees in Bangladesh, both late additions to a tour of the two countries next week. Human rights monitors and U.N. officials have accused Myanmar s military of atrocities, including mass rape, against the stateless Rohingya during operations that followed insurgent attacks on 30 police posts and an army base. Vatican spokesman Greg Burke said on Wednesday that the pope would meet army head Senior General Min Aung Hlaing on Nov. 30 in a church residence in Yangon. Myanmar Cardinal Charles Maung Bo had talks with the pope in Rome on Saturday and suggested that he add a meeting with the general to the schedule for a trip that is proving to be one of the most politically sensitive since Francis was elected in 2013. Both the pope and the general agreed. Some 600,000 Rohingya refugees, most of them Muslim and from Myanmar s northern Rakhine state, have fled to Bangladesh. Burke said a small group of Rohingya refugees would be present at an inter-religious meeting for peace in the Bangladeshi capital, Dhaka on Dec 1. Myanmar s government has denied most of the claims of atrocities against the Rohingya, and the army last week said its own investigation found no evidence of wrongdoing by troops. The pope will separately meet the country s leader, Aung San Suu Kyi, in the capital Naypyitaw, on Nov. 28 in an encounter that was already on the schedule. Briefing reporters on the trip, Burke gave no details of how the Rohingya who will meet the pope would be chosen. A source in Dhaka said the refugees would be able to tell the pope about their experiences. Both events were not on the original schedule of the Nov. 26-Dec. 2 trip. Bo, the cardinal from Myanmar, has advised the pope not to use the word Rohingya while in Myanmar because it is incendiary in the country where they are not recognized as an ethnic group. Burke said the pope took the advice seriously but added:  We will find out together during the trip ... it is not a forbidden word .                                                                                                                                                                                                                                                                                                                                                                                                                                                                                                                                                                                                                                                                                                                                                                                                                                                                                                                                                                                                                                                                                                                                                                                                                                                                                                                                                                                                                                                                                                                                                                                                                                                                                                                                                                                                                                                                                                                                                                                                                                                                                                                                                                                                                                                                                                                                                                                                                                                                                                                                                                                                                                                                                                                                                                                                                                                                                                                                                                                                                                                                                                                                                                                                                                                                                                                          worldnews     November 22, 2017     1\n",
       "VATICAN CITY (Reuters) - Pope Francis, in a major speech on Europe, on Saturday urged the European Union to  recover the sense of being a single community  if it wants a future of prosperity and fairness for all. Francis spoke at the end of a two-day conference at the Vatican called  Re-Thinking Europe . Dozens of participants attended, including European Parliament President Antonio Tajani, the vice president of the European Commission, Frans Timmermans, and religious leaders. While the pope did not specifically mention the situation in Catalonia, where the region s leaders want to break away from Spain, or Britain s decision to leave the EU, he spoke often of solidarity, teamwork and mutual sacrifice.  A European Union that, in facing its crises, fails to recover a sense of being a single community that sustains and assists its members   and not just a collection of small interest groups   would miss out not only on one of the greatest challenges of its history, but also on one of the greatest opportunities for its own future,  he said.  Particular and nationalist agendas risk thwarting the courageous dreams of the founders of Europe,  he said. In his long speech, Francis appeared to warn against the dangers to Europe posed by populist anti-immigrant parties. In elections in Germany in September, Alternative for Germany (AfD) secured almost 13 percent of the vote, making it the third largest party and the first far-right party to win seats in more than half a century.  Extremist and populist groups are finding fertile ground in many countries; they make protest the heart of their political message, without offering the alternative of a constructive political project,  Francis said, without naming any group. History s first Latin American pope said politics had often gone astray, saying  Sadly, all too often we see how politics is becoming instead a forum for clashes between opposing forces.  In his address to the pope at the closing ceremony, Tajani, the European Parliament president, spoke of  risk of a return to intolerance and xenophobia . The pope called for immigrants to be welcomed to Europe as an enriching resource, rather than be seen as a threat. But, in an apparent assertion that immigration had to be controlled, he said that while authorities should have an  open heart  they should be able to  provide for the full integration, on the social, economic and political level  of newcomers.                                                                                                                                                                                                                                                                                                                                                                                                                                                                                                                                                                                                                                                                                                                                                                                                                                                                                                                                                                                                                                                                                                                                                                                                                                                                                                                                                                                                                                                                                                                                                                                                                                                                                                                                                                                                                                                                                                                                                                                                                                                                                                                                                                                                                                                                                                                                                                                                                                                                                                                                                                                                                                                                                                                                                                                                                                                                                                                       worldnews     October 28, 2017      1\n",
       "                                                                                                                                                                                                                                                                                                                                                                                                                                                                                                                                                                                                                                                                                                                                                                                                                                                                                                                                                                                                                                                                                                                                                                                                                                                                                                                                                                                                                                                                                                                                                                                                                                                                                                                                                                                                                                                                                                                                                                                                                                                                                                                                                                                                                                                                                                                                                                                                                                                                                                                                                                                                                                                                                                                                                                                                                                                                                                                                                                                                                                                                                                                                                                                                                                                                                                                                                                                                                                                                                                                                                                                                                                                                                                                                                                                                                                                                                                                                                                                                                                                                                                                                                                                                                                                                                                                                                                                                                                                                                                                                                                                                                                                                                                                                                                                                                                                                                                                                                                                                                                                                                                                                                                                                                                                                                                                                                                                                                                                               politicsNews  June 16, 2016         1\n",
       "Length: 21207, dtype: int64"
      ]
     },
     "execution_count": 19,
     "metadata": {},
     "output_type": "execute_result"
    }
   ],
   "source": [
    "real.value_counts()"
   ]
  },
  {
   "cell_type": "markdown",
   "metadata": {},
   "source": [
    "## 2. Data cleaning"
   ]
  },
  {
   "cell_type": "markdown",
   "metadata": {},
   "source": [
    "I'm going to drop the \"Subject\" columns to make it easier for our model to figure out what is real and what is fake. It'll also be ideal for me to concatenate the two types of news, but I'll go and add more labels to identify everything more clearly."
   ]
  },
  {
   "cell_type": "code",
   "execution_count": 20,
   "metadata": {},
   "outputs": [],
   "source": [
    "real['label'] ='real'\n",
    "fake['label'] = 'fake'"
   ]
  },
  {
   "cell_type": "code",
   "execution_count": 21,
   "metadata": {},
   "outputs": [
    {
     "data": {
      "text/html": [
       "<div>\n",
       "<style scoped>\n",
       "    .dataframe tbody tr th:only-of-type {\n",
       "        vertical-align: middle;\n",
       "    }\n",
       "\n",
       "    .dataframe tbody tr th {\n",
       "        vertical-align: top;\n",
       "    }\n",
       "\n",
       "    .dataframe thead th {\n",
       "        text-align: right;\n",
       "    }\n",
       "</style>\n",
       "<table border=\"1\" class=\"dataframe\">\n",
       "  <thead>\n",
       "    <tr style=\"text-align: right;\">\n",
       "      <th></th>\n",
       "      <th>text</th>\n",
       "      <th>date</th>\n",
       "      <th>label</th>\n",
       "    </tr>\n",
       "  </thead>\n",
       "  <tbody>\n",
       "    <tr>\n",
       "      <th>0</th>\n",
       "      <td>DETROIT (Reuters) - President Barack Obama, fa...</td>\n",
       "      <td>January 20, 2016</td>\n",
       "      <td>real</td>\n",
       "    </tr>\n",
       "    <tr>\n",
       "      <th>1</th>\n",
       "      <td>BERLIN (Reuters) - German Chancellor Angela Me...</td>\n",
       "      <td>September 27, 2017</td>\n",
       "      <td>real</td>\n",
       "    </tr>\n",
       "    <tr>\n",
       "      <th>2</th>\n",
       "      <td>WASHINGTON (Reuters) - U.S. Interior Secretary...</td>\n",
       "      <td>June 12, 2017</td>\n",
       "      <td>real</td>\n",
       "    </tr>\n",
       "    <tr>\n",
       "      <th>3</th>\n",
       "      <td>YANGON/BANGKOK (Reuters) - In many ways Wa Lon...</td>\n",
       "      <td>December 19, 2017</td>\n",
       "      <td>real</td>\n",
       "    </tr>\n",
       "    <tr>\n",
       "      <th>4</th>\n",
       "      <td>MOSCOW (Reuters) - The Russian Navy on Thursda...</td>\n",
       "      <td>September 14, 2017</td>\n",
       "      <td>real</td>\n",
       "    </tr>\n",
       "    <tr>\n",
       "      <th>...</th>\n",
       "      <td>...</td>\n",
       "      <td>...</td>\n",
       "      <td>...</td>\n",
       "    </tr>\n",
       "    <tr>\n",
       "      <th>44893</th>\n",
       "      <td>For a crash course in why reality television s...</td>\n",
       "      <td>November 16, 2016</td>\n",
       "      <td>fake</td>\n",
       "    </tr>\n",
       "    <tr>\n",
       "      <th>44894</th>\n",
       "      <td>MOSCOW (Reuters) - Russia expects all  terrori...</td>\n",
       "      <td>October 30, 2017</td>\n",
       "      <td>real</td>\n",
       "    </tr>\n",
       "    <tr>\n",
       "      <th>44895</th>\n",
       "      <td>(Reuters) - Highlights of the day for U.S. Pre...</td>\n",
       "      <td>February 14, 2017</td>\n",
       "      <td>real</td>\n",
       "    </tr>\n",
       "    <tr>\n",
       "      <th>44896</th>\n",
       "      <td>(This November 28 story has been corrected to...</td>\n",
       "      <td>November 28, 2017</td>\n",
       "      <td>real</td>\n",
       "    </tr>\n",
       "    <tr>\n",
       "      <th>44897</th>\n",
       "      <td>TOKYO (Reuters) - Japanese Prime Minister Shin...</td>\n",
       "      <td>November 20, 2017</td>\n",
       "      <td>real</td>\n",
       "    </tr>\n",
       "  </tbody>\n",
       "</table>\n",
       "<p>44898 rows × 3 columns</p>\n",
       "</div>"
      ],
      "text/plain": [
       "                                                    text                 date  \\\n",
       "0      DETROIT (Reuters) - President Barack Obama, fa...    January 20, 2016    \n",
       "1      BERLIN (Reuters) - German Chancellor Angela Me...  September 27, 2017    \n",
       "2      WASHINGTON (Reuters) - U.S. Interior Secretary...       June 12, 2017    \n",
       "3      YANGON/BANGKOK (Reuters) - In many ways Wa Lon...   December 19, 2017    \n",
       "4      MOSCOW (Reuters) - The Russian Navy on Thursda...  September 14, 2017    \n",
       "...                                                  ...                  ...   \n",
       "44893  For a crash course in why reality television s...    November 16, 2016   \n",
       "44894  MOSCOW (Reuters) - Russia expects all  terrori...    October 30, 2017    \n",
       "44895  (Reuters) - Highlights of the day for U.S. Pre...   February 14, 2017    \n",
       "44896   (This November 28 story has been corrected to...   November 28, 2017    \n",
       "44897  TOKYO (Reuters) - Japanese Prime Minister Shin...   November 20, 2017    \n",
       "\n",
       "      label  \n",
       "0      real  \n",
       "1      real  \n",
       "2      real  \n",
       "3      real  \n",
       "4      real  \n",
       "...     ...  \n",
       "44893  fake  \n",
       "44894  real  \n",
       "44895  real  \n",
       "44896  real  \n",
       "44897  real  \n",
       "\n",
       "[44898 rows x 3 columns]"
      ]
     },
     "execution_count": 21,
     "metadata": {},
     "output_type": "execute_result"
    }
   ],
   "source": [
    "news_data = pd.concat([fake,real],axis=0)\n",
    "news_data = news_data.sample(frac=1).reset_index(drop=True)\n",
    "news_data.drop('subject',axis=1)"
   ]
  },
  {
   "cell_type": "markdown",
   "metadata": {},
   "source": [
    "Let's split up our dataset into test vs. training!"
   ]
  },
  {
   "cell_type": "markdown",
   "metadata": {},
   "source": [
    "First, I'll import train_test_split"
   ]
  },
  {
   "cell_type": "code",
   "execution_count": 23,
   "metadata": {},
   "outputs": [],
   "source": [
    "from sklearn.model_selection import train_test_split"
   ]
  },
  {
   "cell_type": "markdown",
   "metadata": {},
   "source": [
    "I'll run the train_test_split and check the heads of our training data as well as the length of X_train"
   ]
  },
  {
   "cell_type": "code",
   "execution_count": 25,
   "metadata": {},
   "outputs": [],
   "source": [
    "X = news_data['text']\n",
    "y = news_data['label']\n",
    "X_train, X_test, y_train, y_test = train_test_split(X, y, test_size=0.3)"
   ]
  },
  {
   "cell_type": "code",
   "execution_count": 26,
   "metadata": {},
   "outputs": [
    {
     "data": {
      "text/plain": [
       "33882    Since 1890, The Arizona Republic, now the stat...\n",
       "33401    KIEV (Reuters) - Ukraine s state security serv...\n",
       "28105    Donald Trump s White House is in more turmoil ...\n",
       "28470    WASHINGTON (Reuters) - In a move certain to pl...\n",
       "3593     WASHINGTON (Reuters) - Republican presidential...\n",
       "Name: text, dtype: object"
      ]
     },
     "execution_count": 26,
     "metadata": {},
     "output_type": "execute_result"
    }
   ],
   "source": [
    "X_train.head()"
   ]
  },
  {
   "cell_type": "code",
   "execution_count": 27,
   "metadata": {},
   "outputs": [
    {
     "data": {
      "text/plain": [
       "33882    fake\n",
       "33401    real\n",
       "28105    fake\n",
       "28470    real\n",
       "3593     real\n",
       "Name: label, dtype: object"
      ]
     },
     "execution_count": 27,
     "metadata": {},
     "output_type": "execute_result"
    }
   ],
   "source": [
    "y_train.head()"
   ]
  },
  {
   "cell_type": "code",
   "execution_count": 28,
   "metadata": {},
   "outputs": [
    {
     "data": {
      "text/plain": [
       "31428"
      ]
     },
     "execution_count": 28,
     "metadata": {},
     "output_type": "execute_result"
    }
   ],
   "source": [
    "len(X_train)"
   ]
  },
  {
   "cell_type": "markdown",
   "metadata": {},
   "source": [
    "## 3. Feature Extraction¶"
   ]
  },
  {
   "cell_type": "markdown",
   "metadata": {},
   "source": [
    "I will be using tf-idf term weighting as the feature to extract from the texts."
   ]
  },
  {
   "cell_type": "code",
   "execution_count": 29,
   "metadata": {},
   "outputs": [],
   "source": [
    "from sklearn.feature_extraction.text import TfidfVectorizer"
   ]
  },
  {
   "cell_type": "code",
   "execution_count": 31,
   "metadata": {},
   "outputs": [],
   "source": [
    "my_tfidf = TfidfVectorizer(stop_words='english',max_df=0.8)"
   ]
  },
  {
   "cell_type": "markdown",
   "metadata": {},
   "source": [
    "let's fit the vectorizer and then transform X_train into a tf-idf matrix. \n",
    "Then, we will use that same vectorizer to transform the X_test"
   ]
  },
  {
   "cell_type": "code",
   "execution_count": 38,
   "metadata": {},
   "outputs": [
    {
     "data": {
      "text/plain": [
       "<31428x105028 sparse matrix of type '<class 'numpy.float64'>'\n",
       "\twith 4822484 stored elements in Compressed Sparse Row format>"
      ]
     },
     "execution_count": 38,
     "metadata": {},
     "output_type": "execute_result"
    }
   ],
   "source": [
    "tfidf_train = my_tfidf.fit_transform(X_train)\n",
    "tfidf_test = my_tfidf.transform(X_test)\n",
    "\n",
    "tfidf_train"
   ]
  },
  {
   "cell_type": "markdown",
   "metadata": {},
   "source": [
    "## 4. Training the model"
   ]
  },
  {
   "cell_type": "markdown",
   "metadata": {},
   "source": [
    "I will be using PassiveAggressiveClassifier"
   ]
  },
  {
   "cell_type": "code",
   "execution_count": 39,
   "metadata": {},
   "outputs": [],
   "source": [
    "from sklearn.linear_model import PassiveAggressiveClassifier"
   ]
  },
  {
   "cell_type": "code",
   "execution_count": 40,
   "metadata": {},
   "outputs": [
    {
     "data": {
      "text/plain": [
       "PassiveAggressiveClassifier(max_iter=50)"
      ]
     },
     "execution_count": 40,
     "metadata": {},
     "output_type": "execute_result"
    }
   ],
   "source": [
    "pa_clf = PassiveAggressiveClassifier(max_iter=50)\n",
    "pa_clf.fit(tfidf_train, y_train)"
   ]
  },
  {
   "cell_type": "markdown",
   "metadata": {},
   "source": [
    "We can use the same algorithm to the test dataset to see how well it performs."
   ]
  },
  {
   "cell_type": "code",
   "execution_count": 44,
   "metadata": {},
   "outputs": [
    {
     "name": "stdout",
     "output_type": "stream",
     "text": [
      "The accuracy of prediction is 99.34%.\n",
      "\n",
      "The F1 score is 0.993.\n",
      "\n"
     ]
    },
    {
     "data": {
      "image/png": "[encoded data removed]",
      "text/plain": [
       "<Figure size 432x288 with 2 Axes>"
      ]
     },
     "metadata": {
      "needs_background": "light"
     },
     "output_type": "display_data"
    }
   ],
   "source": [
    "from sklearn.metrics import accuracy_score, confusion_matrix, f1_score\n",
    "from mlxtend.plotting import plot_confusion_matrix\n",
    "\n",
    "\n",
    "y_pred = pa_clf.predict(tfidf_test)\n",
    "\n",
    "conf_mat = confusion_matrix(y_test, y_pred)\n",
    "plot_confusion_matrix(conf_mat,\n",
    "                      show_normed=True, colorbar=True,\n",
    "                      class_names=['Fake', 'Real'])\n",
    "accscore = accuracy_score(y_test, y_pred)\n",
    "f1score = f1_score(y_test,y_pred,pos_label='real')\n",
    "\n",
    "print('The accuracy of prediction is {:.2f}%.\\n'.format(accscore*100))\n",
    "print('The F1 score is {:.3f}.\\n'.format(f1score))"
   ]
  },
  {
   "cell_type": "markdown",
   "metadata": {},
   "source": [
    "The model does a great job at predicting if news is fake, with a 99.34% level of accuracy. The F1 score is also extremely high, as well, with a score of 0.993."
   ]
  },
  {
   "cell_type": "markdown",
   "metadata": {},
   "source": [
    "## 5. Analyzing and exploring some more"
   ]
  },
  {
   "cell_type": "markdown",
   "metadata": {},
   "source": [
    "I'm going to explore: "
   ]
  },
  {
   "cell_type": "markdown",
   "metadata": {},
   "source": [
    " - What criteria the model learned to make it incredibly accurate"
   ]
  },
  {
   "cell_type": "markdown",
   "metadata": {},
   "source": [
    "- If this model can be applied well to other articles that aren't in the data set or if this dataset had a particular characertistic that made it stand out"
   ]
  },
  {
   "cell_type": "markdown",
   "metadata": {},
   "source": [
    "To begin with, let's see what the model's criteria was."
   ]
  },
  {
   "cell_type": "code",
   "execution_count": 46,
   "metadata": {},
   "outputs": [],
   "source": [
    "from sklearn.utils.extmath import density\n",
    "from sklearn.pipeline import make_pipeline"
   ]
  },
  {
   "cell_type": "code",
   "execution_count": 47,
   "metadata": {},
   "outputs": [
    {
     "name": "stdout",
     "output_type": "stream",
     "text": [
      "Dimensionality (i.e., number of features): 105028\n",
      "Density (i.e., fraction of non-zero elements): 0.500\n"
     ]
    }
   ],
   "source": [
    "print(\"Dimensionality (i.e., number of features): {:d}\".format(pa_clf.coef_.shape[1]))\n",
    "print(\"Density (i.e., fraction of non-zero elements): {:.3f}\".format(density(pa_clf.coef_)))"
   ]
  },
  {
   "cell_type": "markdown",
   "metadata": {},
   "source": [
    "The algorithm found that less than half of the features were not useful in determining whether or not an article is real. But let's examine the other features:"
   ]
  },
  {
   "cell_type": "markdown",
   "metadata": {},
   "source": [
    "Non-zero weight sorting:"
   ]
  },
  {
   "cell_type": "code",
   "execution_count": 48,
   "metadata": {},
   "outputs": [],
   "source": [
    "weights_nonzero = pa_clf.coef_[pa_clf.coef_!=0]\n",
    "feature_sorter_nonzero = np.argsort(weights_nonzero)\n",
    "weights_nonzero_sorted =weights_nonzero[feature_sorter_nonzero]"
   ]
  },
  {
   "cell_type": "markdown",
   "metadata": {},
   "source": [
    "Plotting"
   ]
  },
  {
   "cell_type": "code",
   "execution_count": 50,
   "metadata": {},
   "outputs": [
    {
     "data": {
      "image/png": "[encoded data removed]",
      "text/plain": [
       "<Figure size 648x216 with 2 Axes>"
      ]
     },
     "metadata": {
      "needs_background": "light"
     },
     "output_type": "display_data"
    }
   ],
   "source": [
    "fig, axs = plt.subplots(1,2, figsize=(9,3))\n",
    "sns.lineplot(data=weights_nonzero_sorted, ax=axs[0])\n",
    "axs[0].set_ylabel('Weight')\n",
    "axs[0].set_xlabel('Feature number \\n (Zero-weight omitted)')\n",
    "\n",
    "axs[1].hist(weights_nonzero_sorted,\n",
    "            orientation='horizontal', bins=500,)\n",
    "axs[1].set_xlabel('Count')\n",
    "\n",
    "fig.suptitle('Weight distribution in features with non-zero weights')\n",
    "\n",
    "plt.show()"
   ]
  },
  {
   "cell_type": "markdown",
   "metadata": {},
   "source": [
    "It looks like even with the features that have non-zero weights, a lot of them have a value close to zero. This isn't shocking, as there were almost one-hundred thousand tokens, so most of them were probably useless for the task at hand."
   ]
  },
  {
   "cell_type": "markdown",
   "metadata": {},
   "source": [
    "But what tokens were  useful?"
   ]
  },
  {
   "cell_type": "markdown",
   "metadata": {},
   "source": [
    "### Let's extract \"Indicator\" tokens"
   ]
  },
  {
   "cell_type": "code",
   "execution_count": 53,
   "metadata": {},
   "outputs": [],
   "source": [
    "tokens = my_tfidf.get_feature_names()\n",
    "tokens_nonzero = np.array(tokens)[pa_clf.coef_[0]!=0]\n",
    "tokens_nonzero_sorted = np.array(tokens_nonzero)[feature_sorter_nonzero]\n",
    "\n",
    "num_tokens = 10\n",
    "fake_indicator_tokens = tokens_nonzero_sorted[:num_tokens]\n",
    "real_indicator_tokens = np.flip(tokens_nonzero_sorted[-num_tokens:])"
   ]
  },
  {
   "cell_type": "code",
   "execution_count": 54,
   "metadata": {},
   "outputs": [],
   "source": [
    "fake_indicator = pd.DataFrame({\n",
    "    'Token': fake_indicator_tokens,\n",
    "    'Weight': weights_nonzero_sorted[:num_tokens]\n",
    "})\n",
    "\n",
    "real_indicator = pd.DataFrame({\n",
    "    'Token': real_indicator_tokens,\n",
    "    'Weight': np.flip(weights_nonzero_sorted[-num_tokens:])\n",
    "})"
   ]
  },
  {
   "cell_type": "code",
   "execution_count": 55,
   "metadata": {},
   "outputs": [
    {
     "name": "stdout",
     "output_type": "stream",
     "text": [
      "The top 10 tokens likely to appear in fake news were the following: \n",
      "\n"
     ]
    },
    {
     "data": {
      "text/html": [
       "<div>\n",
       "<style scoped>\n",
       "    .dataframe tbody tr th:only-of-type {\n",
       "        vertical-align: middle;\n",
       "    }\n",
       "\n",
       "    .dataframe tbody tr th {\n",
       "        vertical-align: top;\n",
       "    }\n",
       "\n",
       "    .dataframe thead th {\n",
       "        text-align: right;\n",
       "    }\n",
       "</style>\n",
       "<table border=\"1\" class=\"dataframe\">\n",
       "  <thead>\n",
       "    <tr style=\"text-align: right;\">\n",
       "      <th></th>\n",
       "      <th>Token</th>\n",
       "      <th>Weight</th>\n",
       "    </tr>\n",
       "  </thead>\n",
       "  <tbody>\n",
       "    <tr>\n",
       "      <th>0</th>\n",
       "      <td>read</td>\n",
       "      <td>-6.736483</td>\n",
       "    </tr>\n",
       "    <tr>\n",
       "      <th>1</th>\n",
       "      <td>featured</td>\n",
       "      <td>-6.130743</td>\n",
       "    </tr>\n",
       "    <tr>\n",
       "      <th>2</th>\n",
       "      <td>image</td>\n",
       "      <td>-6.092392</td>\n",
       "    </tr>\n",
       "    <tr>\n",
       "      <th>3</th>\n",
       "      <td>gop</td>\n",
       "      <td>-5.640964</td>\n",
       "    </tr>\n",
       "    <tr>\n",
       "      <th>4</th>\n",
       "      <td>just</td>\n",
       "      <td>-5.116356</td>\n",
       "    </tr>\n",
       "    <tr>\n",
       "      <th>5</th>\n",
       "      <td>sen</td>\n",
       "      <td>-4.463410</td>\n",
       "    </tr>\n",
       "    <tr>\n",
       "      <th>6</th>\n",
       "      <td>getty</td>\n",
       "      <td>-4.397292</td>\n",
       "    </tr>\n",
       "    <tr>\n",
       "      <th>7</th>\n",
       "      <td>rep</td>\n",
       "      <td>-4.370485</td>\n",
       "    </tr>\n",
       "    <tr>\n",
       "      <th>8</th>\n",
       "      <td>mr</td>\n",
       "      <td>-4.157349</td>\n",
       "    </tr>\n",
       "    <tr>\n",
       "      <th>9</th>\n",
       "      <td>com</td>\n",
       "      <td>-4.074806</td>\n",
       "    </tr>\n",
       "  </tbody>\n",
       "</table>\n",
       "</div>"
      ],
      "text/plain": [
       "      Token    Weight\n",
       "0      read -6.736483\n",
       "1  featured -6.130743\n",
       "2     image -6.092392\n",
       "3       gop -5.640964\n",
       "4      just -5.116356\n",
       "5       sen -4.463410\n",
       "6     getty -4.397292\n",
       "7       rep -4.370485\n",
       "8        mr -4.157349\n",
       "9       com -4.074806"
      ]
     },
     "metadata": {},
     "output_type": "display_data"
    },
    {
     "name": "stdout",
     "output_type": "stream",
     "text": [
      "\n",
      "\n",
      "...and the top 10 tokens likely to appear in real news were the following: \n",
      "\n"
     ]
    },
    {
     "data": {
      "text/html": [
       "<div>\n",
       "<style scoped>\n",
       "    .dataframe tbody tr th:only-of-type {\n",
       "        vertical-align: middle;\n",
       "    }\n",
       "\n",
       "    .dataframe tbody tr th {\n",
       "        vertical-align: top;\n",
       "    }\n",
       "\n",
       "    .dataframe thead th {\n",
       "        text-align: right;\n",
       "    }\n",
       "</style>\n",
       "<table border=\"1\" class=\"dataframe\">\n",
       "  <thead>\n",
       "    <tr style=\"text-align: right;\">\n",
       "      <th></th>\n",
       "      <th>Token</th>\n",
       "      <th>Weight</th>\n",
       "    </tr>\n",
       "  </thead>\n",
       "  <tbody>\n",
       "    <tr>\n",
       "      <th>0</th>\n",
       "      <td>reuters</td>\n",
       "      <td>27.733056</td>\n",
       "    </tr>\n",
       "    <tr>\n",
       "      <th>1</th>\n",
       "      <td>said</td>\n",
       "      <td>8.642050</td>\n",
       "    </tr>\n",
       "    <tr>\n",
       "      <th>2</th>\n",
       "      <td>washington</td>\n",
       "      <td>5.071318</td>\n",
       "    </tr>\n",
       "    <tr>\n",
       "      <th>3</th>\n",
       "      <td>nov</td>\n",
       "      <td>4.687407</td>\n",
       "    </tr>\n",
       "    <tr>\n",
       "      <th>4</th>\n",
       "      <td>republican</td>\n",
       "      <td>3.705176</td>\n",
       "    </tr>\n",
       "    <tr>\n",
       "      <th>5</th>\n",
       "      <td>tuesday</td>\n",
       "      <td>3.294907</td>\n",
       "    </tr>\n",
       "    <tr>\n",
       "      <th>6</th>\n",
       "      <td>saying</td>\n",
       "      <td>3.250470</td>\n",
       "    </tr>\n",
       "    <tr>\n",
       "      <th>7</th>\n",
       "      <td>thursday</td>\n",
       "      <td>3.211036</td>\n",
       "    </tr>\n",
       "    <tr>\n",
       "      <th>8</th>\n",
       "      <td>wednesday</td>\n",
       "      <td>3.020546</td>\n",
       "    </tr>\n",
       "    <tr>\n",
       "      <th>9</th>\n",
       "      <td>rival</td>\n",
       "      <td>2.816452</td>\n",
       "    </tr>\n",
       "  </tbody>\n",
       "</table>\n",
       "</div>"
      ],
      "text/plain": [
       "        Token     Weight\n",
       "0     reuters  27.733056\n",
       "1        said   8.642050\n",
       "2  washington   5.071318\n",
       "3         nov   4.687407\n",
       "4  republican   3.705176\n",
       "5     tuesday   3.294907\n",
       "6      saying   3.250470\n",
       "7    thursday   3.211036\n",
       "8   wednesday   3.020546\n",
       "9       rival   2.816452"
      ]
     },
     "metadata": {},
     "output_type": "display_data"
    }
   ],
   "source": [
    "print('The top {} tokens likely to appear in fake news were the following: \\n'.format(num_tokens))\n",
    "display(fake_indicator)\n",
    "\n",
    "print('\\n\\n...and the top {} tokens likely to appear in real news were the following: \\n'.format(num_tokens))\n",
    "display(real_indicator)"
   ]
  },
  {
   "cell_type": "code",
   "execution_count": 56,
   "metadata": {},
   "outputs": [
    {
     "name": "stdout",
     "output_type": "stream",
     "text": [
      "Articles that contained any of the matching indicator tokens:\n",
      "\n",
      "FAKE: 21715 out of 23481 (92.48%)\n",
      "title\n",
      " Donald Trump Sends Out Embarrassing New Year’s Eve Message; This is Disturbing               Donald Trump just couldn t wish all Americans ...\n",
      " Drunk Bragging Trump Staffer Started Russian Collusion Investigation                         House Intelligence Committee Chairman Devin Nu...\n",
      " Sheriff David Clarke Becomes An Internet Joke For Threatening To Poke People ‘In The Eye’    On Friday, it was revealed that former Milwauk...\n",
      " Trump Is So Obsessed He Even Has Obama’s Name Coded Into His Website (IMAGES)                On Christmas day, Donald Trump announced that ...\n",
      " Pope Francis Just Called Out Donald Trump During His Christmas Speech                        Pope Francis used his annual Christmas Day mes...\n",
      "                                                                                                                    ...                        \n",
      "McPain: John McCain Furious That Iran Treated US Sailors Well                                 21st Century Wire says As 21WIRE reported earl...\n",
      "JUSTICE? Yahoo Settles E-mail Privacy Class-action: $4M for Lawyers, $0 for Users             21st Century Wire says It s a familiar theme. ...\n",
      "Sunnistan: US and Allied ‘Safe Zone’ Plan to Take Territorial Booty in Northern Syria         Patrick Henningsen  21st Century WireRemember ...\n",
      "How to Blow $700 Million: Al Jazeera America Finally Calls it Quits                           21st Century Wire says Al Jazeera America will...\n",
      "10 U.S. Navy Sailors Held by Iranian Military – Signs of a Neocon Political Stunt             21st Century Wire says As 21WIRE predicted in ...\n",
      "Name: text, Length: 21715, dtype: object\n",
      "\n",
      "REAL: 21416 out of 21417 (100.00%)\n",
      "title\n",
      "As U.S. budget fight looms, Republicans flip their fiscal script         WASHINGTON (Reuters) - The head of a conservat...\n",
      "U.S. military to accept transgender recruits on Monday: Pentagon         WASHINGTON (Reuters) - Transgender people will...\n",
      "Senior U.S. Republican senator: 'Let Mr. Mueller do his job'             WASHINGTON (Reuters) - The special counsel inv...\n",
      "FBI Russia probe helped by Australian diplomat tip-off: NYT              WASHINGTON (Reuters) - Trump campaign adviser ...\n",
      "Trump wants Postal Service to charge 'much more' for Amazon shipments    SEATTLE/WASHINGTON (Reuters) - President Donal...\n",
      "                                                                                               ...                        \n",
      "'Fully committed' NATO backs new U.S. approach on Afghanistan            BRUSSELS (Reuters) - NATO allies on Tuesday we...\n",
      "LexisNexis withdrew two products from Chinese market                     LONDON (Reuters) - LexisNexis, a provider of l...\n",
      "Minsk cultural hub becomes haven from authorities                        MINSK (Reuters) - In the shadow of disused Sov...\n",
      "Vatican upbeat on possibility of Pope Francis visiting Russia            MOSCOW (Reuters) - Vatican Secretary of State ...\n",
      "Indonesia to buy $1.14 billion worth of Russian jets                     JAKARTA (Reuters) - Indonesia will buy 11 Sukh...\n",
      "Name: text, Length: 21416, dtype: object\n"
     ]
    }
   ],
   "source": [
    "fake_contain_fake = fake.text.loc[[np.any([token in body for token in fake_indicator.Token])\n",
    "                                for body in fake.text.str.lower()]]\n",
    "real_contain_real = real.text.loc[[np.any([token in body for token in real_indicator.Token])\n",
    "                                for body in real.text.str.lower()]]\n",
    "\n",
    "print('Articles that contained any of the matching indicator tokens:\\n')\n",
    "\n",
    "print('FAKE: {} out of {} ({:.2f}%)'\n",
    "      .format(len(fake_contain_fake), len(fake), len(fake_contain_fake)/len(fake) * 100))\n",
    "print(fake_contain_fake)\n",
    "\n",
    "print('\\nREAL: {} out of {} ({:.2f}%)'\n",
    "      .format(len(real_contain_real), len(real), len(real_contain_real)/len(real) * 100))\n",
    "print(real_contain_real)"
   ]
  },
  {
   "cell_type": "markdown",
   "metadata": {},
   "source": [
    "### Some noticable points:"
   ]
  },
  {
   "cell_type": "markdown",
   "metadata": {},
   "source": [
    "- Fake news tens to use Getty Images, most likely because a lot of fake articles aren't necessarily done by actual journalists, which means they need to find photos elsewhere.\n",
    "\n",
    "- Weekdays are often included in real news, like \"Tuesday\",\"Wednesday\",etc. because AP style prefers articles to state the day it took place if it happened that week, or the actual date of the event if it was prior.\n",
    "\n",
    "- The categories went beyond politics, but many indicator terms seemed relevant to U.S. Politics. This includes terms like \"gop\", \"sen\", \"republican\", and more.\n",
    "\n",
    "- \"gop\" is often used more in fake news that real news, while \"republican\" is more often used in real news. This is likely because AP style tells journalists to refer to the party as \"Republicans.\""
   ]
  },
  {
   "cell_type": "markdown",
   "metadata": {},
   "source": [
    "### Other questions:"
   ]
  },
  {
   "cell_type": "markdown",
   "metadata": {},
   "source": [
    "- Why are \"read\" and \"featured\" the top two fake-news indicator tokens? Is it because an author was trying to claim that the story is real because it's been read a lot and featured elsewhere?\n",
    "\n",
    "- The same question goes for \"nov\" and \"washington\", which perhaps infers that a lot of fake articles came around election time in November and discussed the month and the capitol a lot.\n",
    "\n",
    "- It is clear that Reuters is reputable, but a lot of articles begin with a \"City Name (Reuters)\" which the algorithim must have identified as real. I wonder if the algorithm could still tell if an article is real if this identifier was removed."
   ]
  },
  {
   "cell_type": "markdown",
   "metadata": {},
   "source": [
    "These are all speculations, but it would be interesting to see how these terms are actually used within the test. But that is beyond the scope of this project at hand."
   ]
  },
  {
   "cell_type": "markdown",
   "metadata": {},
   "source": [
    "## 6. Conclusion + takeaways"
   ]
  },
  {
   "cell_type": "markdown",
   "metadata": {},
   "source": [
    "I used the TfidVectorizer and PassiveAggressiveClassifier algorithms to find \"fake news\" within the dataset. It was extremely accurate and able to identify the \"fake news\" at a consistently high rate with a high f1 score."
   ]
  }
 ],
 "metadata": {
  "kernelspec": {
   "display_name": "Python 3",
   "language": "python",
   "name": "python3"
  },
  "language_info": {
   "codemirror_mode": {
    "name": "ipython",
    "version": 3
   },
   "file_extension": ".py",
   "mimetype": "text/x-python",
   "name": "python",
   "nbconvert_exporter": "python",
   "pygments_lexer": "ipython3",
   "version": "3.8.5"
  }
 },
 "nbformat": 4,
 "nbformat_minor": 4
}
